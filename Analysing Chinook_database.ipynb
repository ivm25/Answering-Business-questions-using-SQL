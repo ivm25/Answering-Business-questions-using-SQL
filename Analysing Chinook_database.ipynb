{
 "cells": [
  {
   "cell_type": "markdown",
   "metadata": {
    "jupyter": {
     "outputs_hidden": false
    }
   },
   "source": [
    "##  Answering Business questions about Chinook Database using SQL"
   ]
  },
  {
   "cell_type": "markdown",
   "metadata": {},
   "source": [
    "### Table of Contents\n",
    "***\n",
    "1 [GOAL](#definition)\n",
    "\n",
    "1.1 [BUSINESS PROBLEMS](#problem)\n",
    "\n",
    "2 [DISCOVER](#discover)\n",
    "\n",
    "2.1 [Data Exploration](#explore)\n",
    "\n",
    "2.2 [Key Visualisations](#functioncalls)\n",
    "\n",
    "3 [Conclusion](#summary)"
   ]
  },
  {
   "cell_type": "markdown",
   "metadata": {},
   "source": [
    "### 1: GOAL\n",
    "<a id=\"definition\"></a>"
   ]
  },
  {
   "cell_type": "markdown",
   "metadata": {},
   "source": [
    "***\n",
    "1. Explore the Chinook database using SQL and provide the store with some actionable insights on the outlined Business problems.\n",
    "\n",
    "\n",
    "2. **Can we take an informed decision about the revenue indicators** \n",
    "     **and communicate to the business teams and come up with away effective strategies?**\n",
    "\n",
    "3. *Source of the data* : https://github.com/lerocha/chinook-database/tree/master/ChinookDatabase/DataSources\n"
   ]
  },
  {
   "cell_type": "markdown",
   "metadata": {},
   "source": [
    "### 1.1: BUSINESS PROBLEMS\n",
    "<a id=\"problem\"></a>"
   ]
  },
  {
   "cell_type": "markdown",
   "metadata": {},
   "source": [
    "1. Helping the Business team at Chinook to understand which Genres sell the most, in order to help the new deal with a record label. Focus Territory: USA\n",
    "\n",
    "2. Problem 2*: Identify which employees are bringing in most revenue sales.\n",
    "\n",
    "3. *Problem 3*: Understand the track/album purchases from different countries.\n",
    "\n",
    " "
   ]
  },
  {
   "cell_type": "markdown",
   "metadata": {},
   "source": [
    "### 2: DISCOVER\n",
    "<a id=\"discover\"></a>"
   ]
  },
  {
   "cell_type": "markdown",
   "metadata": {},
   "source": [
    "This section consists of:\n",
    "\n",
    "1. \n",
    "\n",
    "2. \n",
    "\n",
    "3. \n",
    "\n",
    "4. \n"
   ]
  },
  {
   "cell_type": "markdown",
   "metadata": {},
   "source": [
    "### 2.1: Load\n",
    "<a id=\"loadthelibrariesfile\"></a>"
   ]
  },
  {
   "cell_type": "code",
   "execution_count": 1,
   "metadata": {},
   "outputs": [],
   "source": [
    "%%capture\n",
    "%load_ext sql\n",
    "%sql sqlite:///Chinook_Sqlite.sqlite"
   ]
  },
  {
   "cell_type": "code",
   "execution_count": 2,
   "metadata": {
    "collapsed": false,
    "jupyter": {
     "outputs_hidden": false
    }
   },
   "outputs": [
    {
     "name": "stdout",
     "output_type": "stream",
     "text": [
      " * sqlite:///Chinook_Sqlite.sqlite\n",
      "Done.\n"
     ]
    },
    {
     "data": {
      "text/html": [
       "<table>\n",
       "    <tr>\n",
       "        <th>name</th>\n",
       "        <th>type</th>\n",
       "    </tr>\n",
       "    <tr>\n",
       "        <td>Album</td>\n",
       "        <td>table</td>\n",
       "    </tr>\n",
       "    <tr>\n",
       "        <td>Artist</td>\n",
       "        <td>table</td>\n",
       "    </tr>\n",
       "    <tr>\n",
       "        <td>Customer</td>\n",
       "        <td>table</td>\n",
       "    </tr>\n",
       "    <tr>\n",
       "        <td>Employee</td>\n",
       "        <td>table</td>\n",
       "    </tr>\n",
       "    <tr>\n",
       "        <td>Genre</td>\n",
       "        <td>table</td>\n",
       "    </tr>\n",
       "    <tr>\n",
       "        <td>Invoice</td>\n",
       "        <td>table</td>\n",
       "    </tr>\n",
       "    <tr>\n",
       "        <td>InvoiceLine</td>\n",
       "        <td>table</td>\n",
       "    </tr>\n",
       "    <tr>\n",
       "        <td>MediaType</td>\n",
       "        <td>table</td>\n",
       "    </tr>\n",
       "    <tr>\n",
       "        <td>Playlist</td>\n",
       "        <td>table</td>\n",
       "    </tr>\n",
       "    <tr>\n",
       "        <td>PlaylistTrack</td>\n",
       "        <td>table</td>\n",
       "    </tr>\n",
       "    <tr>\n",
       "        <td>Track</td>\n",
       "        <td>table</td>\n",
       "    </tr>\n",
       "</table>"
      ],
      "text/plain": [
       "[('Album', 'table'),\n",
       " ('Artist', 'table'),\n",
       " ('Customer', 'table'),\n",
       " ('Employee', 'table'),\n",
       " ('Genre', 'table'),\n",
       " ('Invoice', 'table'),\n",
       " ('InvoiceLine', 'table'),\n",
       " ('MediaType', 'table'),\n",
       " ('Playlist', 'table'),\n",
       " ('PlaylistTrack', 'table'),\n",
       " ('Track', 'table')]"
      ]
     },
     "execution_count": 2,
     "metadata": {},
     "output_type": "execute_result"
    }
   ],
   "source": [
    "%%sql\n",
    "SELECT\n",
    "    name,\n",
    "    type\n",
    "FROM sqlite_master\n",
    "WHERE type IN (\"table\",\"view\");"
   ]
  },
  {
   "cell_type": "markdown",
   "metadata": {},
   "source": [
    "**The Chinook record store has just signed a deal with a new record label, and you've been tasked with selecting the first three albums that will be added to the store, from a list of four.**\n",
    "\n",
    "\n",
    "Artist Name\tGenre\n",
    "Regal\tHip-Hop\n",
    "Red Tone\tPunk\n",
    "Meteor and the Girls\tPop\n",
    "Slim Jim Bites\tBlues\n",
    "\n",
    "*Problem 1*: Helping the Business team at Chinook to understand which Genres sell the most, in order to help the new deal with a record label. Focus Territory: USA"
   ]
  },
  {
   "cell_type": "code",
   "execution_count": 3,
   "metadata": {
    "collapsed": false,
    "jupyter": {
     "outputs_hidden": false
    }
   },
   "outputs": [
    {
     "name": "stdout",
     "output_type": "stream",
     "text": [
      " * sqlite:///Chinook_Sqlite.sqlite\n",
      "Done.\n"
     ]
    },
    {
     "data": {
      "text/html": [
       "<table>\n",
       "    <tr>\n",
       "        <th>genre_name</th>\n",
       "        <th>number_of_tracks_sold</th>\n",
       "        <th>percentage_of_tracks_sold</th>\n",
       "    </tr>\n",
       "    <tr>\n",
       "        <td>Rock</td>\n",
       "        <td>157</td>\n",
       "        <td>32.0%</td>\n",
       "    </tr>\n",
       "    <tr>\n",
       "        <td>Latin</td>\n",
       "        <td>91</td>\n",
       "        <td>18.0%</td>\n",
       "    </tr>\n",
       "    <tr>\n",
       "        <td>Metal</td>\n",
       "        <td>64</td>\n",
       "        <td>13.0%</td>\n",
       "    </tr>\n",
       "    <tr>\n",
       "        <td>Alternative &amp; Punk</td>\n",
       "        <td>50</td>\n",
       "        <td>10.0%</td>\n",
       "    </tr>\n",
       "    <tr>\n",
       "        <td>Jazz</td>\n",
       "        <td>22</td>\n",
       "        <td>4.0%</td>\n",
       "    </tr>\n",
       "    <tr>\n",
       "        <td>Blues</td>\n",
       "        <td>15</td>\n",
       "        <td>3.0%</td>\n",
       "    </tr>\n",
       "    <tr>\n",
       "        <td>TV Shows</td>\n",
       "        <td>14</td>\n",
       "        <td>3.0%</td>\n",
       "    </tr>\n",
       "    <tr>\n",
       "        <td>R&amp;B/Soul</td>\n",
       "        <td>12</td>\n",
       "        <td>2.0%</td>\n",
       "    </tr>\n",
       "    <tr>\n",
       "        <td>Comedy</td>\n",
       "        <td>8</td>\n",
       "        <td>2.0%</td>\n",
       "    </tr>\n",
       "    <tr>\n",
       "        <td>Classical</td>\n",
       "        <td>8</td>\n",
       "        <td>2.0%</td>\n",
       "    </tr>\n",
       "    <tr>\n",
       "        <td>Bossa Nova</td>\n",
       "        <td>7</td>\n",
       "        <td>1.0%</td>\n",
       "    </tr>\n",
       "    <tr>\n",
       "        <td>Reggae</td>\n",
       "        <td>6</td>\n",
       "        <td>1.0%</td>\n",
       "    </tr>\n",
       "    <tr>\n",
       "        <td>Drama</td>\n",
       "        <td>6</td>\n",
       "        <td>1.0%</td>\n",
       "    </tr>\n",
       "    <tr>\n",
       "        <td>Sci Fi &amp; Fantasy</td>\n",
       "        <td>5</td>\n",
       "        <td>1.0%</td>\n",
       "    </tr>\n",
       "    <tr>\n",
       "        <td>Pop</td>\n",
       "        <td>5</td>\n",
       "        <td>1.0%</td>\n",
       "    </tr>\n",
       "    <tr>\n",
       "        <td>Alternative</td>\n",
       "        <td>5</td>\n",
       "        <td>1.0%</td>\n",
       "    </tr>\n",
       "    <tr>\n",
       "        <td>Soundtrack</td>\n",
       "        <td>4</td>\n",
       "        <td>1.0%</td>\n",
       "    </tr>\n",
       "    <tr>\n",
       "        <td>Hip Hop/Rap</td>\n",
       "        <td>4</td>\n",
       "        <td>1.0%</td>\n",
       "    </tr>\n",
       "    <tr>\n",
       "        <td>Heavy Metal</td>\n",
       "        <td>4</td>\n",
       "        <td>1.0%</td>\n",
       "    </tr>\n",
       "    <tr>\n",
       "        <td>Rock And Roll</td>\n",
       "        <td>3</td>\n",
       "        <td>1.0%</td>\n",
       "    </tr>\n",
       "    <tr>\n",
       "        <td>Easy Listening</td>\n",
       "        <td>3</td>\n",
       "        <td>1.0%</td>\n",
       "    </tr>\n",
       "    <tr>\n",
       "        <td>Science Fiction</td>\n",
       "        <td>1</td>\n",
       "        <td>0.0%</td>\n",
       "    </tr>\n",
       "</table>"
      ],
      "text/plain": [
       "[('Rock', 157, '32.0%'),\n",
       " ('Latin', 91, '18.0%'),\n",
       " ('Metal', 64, '13.0%'),\n",
       " ('Alternative & Punk', 50, '10.0%'),\n",
       " ('Jazz', 22, '4.0%'),\n",
       " ('Blues', 15, '3.0%'),\n",
       " ('TV Shows', 14, '3.0%'),\n",
       " ('R&B/Soul', 12, '2.0%'),\n",
       " ('Comedy', 8, '2.0%'),\n",
       " ('Classical', 8, '2.0%'),\n",
       " ('Bossa Nova', 7, '1.0%'),\n",
       " ('Reggae', 6, '1.0%'),\n",
       " ('Drama', 6, '1.0%'),\n",
       " ('Sci Fi & Fantasy', 5, '1.0%'),\n",
       " ('Pop', 5, '1.0%'),\n",
       " ('Alternative', 5, '1.0%'),\n",
       " ('Soundtrack', 4, '1.0%'),\n",
       " ('Hip Hop/Rap', 4, '1.0%'),\n",
       " ('Heavy Metal', 4, '1.0%'),\n",
       " ('Rock And Roll', 3, '1.0%'),\n",
       " ('Easy Listening', 3, '1.0%'),\n",
       " ('Science Fiction', 1, '0.0%')]"
      ]
     },
     "execution_count": 3,
     "metadata": {},
     "output_type": "execute_result"
    }
   ],
   "source": [
    "%%sql\n",
    "WITH inv_us AS (SELECT invoice.*, \n",
    "                InvoiceLine.*, \n",
    "                customer.*\n",
    "                FROM InvoiceLine\n",
    "                INNER JOIN Invoice\n",
    "                ON InvoiceLine.InvoiceId = Invoice.InvoiceId\n",
    "                INNER JOIN customer ON Invoice.CustomerId\t = customer.CustomerId\t\n",
    "                WHERE country LIKE 'USA')\n",
    ",\n",
    "\n",
    "inv_t AS       (SELECT track.*, \n",
    "                inv_us.*,\n",
    "                genre.name AS genre_name\n",
    "                FROM inv_us\n",
    "                INNER JOIN track\n",
    "                ON inv_us.TrackId = track.TrackId\n",
    "                INNER JOIN genre\n",
    "                ON genre.GenreId = track.GenreId\n",
    "                )\n",
    "\n",
    "\n",
    "SELECT genre_name, \n",
    "       COUNT(InvoiceLineId) As number_of_tracks_sold, \n",
    "       cast(round(cast(count(inv_t.InvoiceLineId) AS FLOAT) / (\n",
    "        SELECT COUNT(*) from inv_t\n",
    "        ),2)*100 As character varying) || '%'  AS percentage_of_tracks_sold\n",
    "FROM inv_t\n",
    "GROUP BY 1\n",
    "ORDER BY 2 DESC\n",
    ";"
   ]
  },
  {
   "cell_type": "markdown",
   "metadata": {},
   "source": [
    "**Based on the above results, the first three albums that should be added to the store from the above list should be**:\n",
    "\n"
   ]
  },
  {
   "cell_type": "markdown",
   "metadata": {},
   "source": [
    "|Artist 1       |Artist 2|Artist 3|\n",
    "|------         |------  |------|\n",
    "|Slim Jim Bites  |Meteor and the Girls  |Regal|\n",
    "|Blues  |Pop     |Hip/Hop     |"
   ]
  },
  {
   "cell_type": "markdown",
   "metadata": {},
   "source": [
    "\n",
    "- *Problem 2*: Identify which employees are bringing in most revenue sales."
   ]
  },
  {
   "cell_type": "code",
   "execution_count": 23,
   "metadata": {
    "collapsed": false,
    "jupyter": {
     "outputs_hidden": false
    }
   },
   "outputs": [
    {
     "name": "stdout",
     "output_type": "stream",
     "text": [
      " * sqlite:///Chinook_Sqlite.sqlite\n",
      "Done.\n"
     ]
    },
    {
     "data": {
      "text/html": [
       "<table>\n",
       "    <tr>\n",
       "        <th>employee_name</th>\n",
       "        <th>Title</th>\n",
       "        <th>HireDate</th>\n",
       "        <th>total_sales</th>\n",
       "    </tr>\n",
       "    <tr>\n",
       "        <td>Jane Peacock</td>\n",
       "        <td>Sales Support Agent</td>\n",
       "        <td>2002-04-01 00:00:00</td>\n",
       "        <td>833.04</td>\n",
       "    </tr>\n",
       "    <tr>\n",
       "        <td>Margaret Park</td>\n",
       "        <td>Sales Support Agent</td>\n",
       "        <td>2003-05-03 00:00:00</td>\n",
       "        <td>775.4</td>\n",
       "    </tr>\n",
       "    <tr>\n",
       "        <td>Steve Johnson</td>\n",
       "        <td>Sales Support Agent</td>\n",
       "        <td>2003-10-17 00:00:00</td>\n",
       "        <td>720.16</td>\n",
       "    </tr>\n",
       "</table>"
      ],
      "text/plain": [
       "[('Jane Peacock', 'Sales Support Agent', '2002-04-01 00:00:00', 833.04),\n",
       " ('Margaret Park', 'Sales Support Agent', '2003-05-03 00:00:00', 775.4),\n",
       " ('Steve Johnson', 'Sales Support Agent', '2003-10-17 00:00:00', 720.16)]"
      ]
     },
     "execution_count": 23,
     "metadata": {},
     "output_type": "execute_result"
    }
   ],
   "source": [
    "%%sql\n",
    "WITH inv_employee AS (SELECT Invoice.*, \n",
    "                      invoiceLine.*, \n",
    "                      Customer.*,\n",
    "                      Employee.FirstName AS employee_fname,\n",
    "                      Employee.LastName AS employee_lname,\n",
    "                      Employee.HireDate,\n",
    "                      Employee.Title,\n",
    "                      sum(Invoice.Total) As total\n",
    "                      FROM InvoiceLine\n",
    "                      INNER JOIN Invoice\n",
    "                      ON InvoiceLine.InvoiceId = Invoice.InvoiceId\n",
    "                      INNER JOIN Customer ON Invoice.CustomerId = Customer.CustomerId\n",
    "                      INNER JOIN Employee ON Customer.SupportRepId = Employee.EmployeeId\n",
    "                      GROUP BY 1,2,3,4,5,6)\n",
    "\n",
    "--Select the names of the eployees leading towards highest sales\n",
    "SELECT employee_fname || \" \" || employee_lname AS employee_name,\n",
    "       Title,\n",
    "       HireDate,\n",
    "       round(SUM(total),2) AS total_sales\n",
    "       FROM inv_employee\n",
    "       GROUP BY 1"
   ]
  },
  {
   "cell_type": "markdown",
   "metadata": {},
   "source": [
    "**Jane Peacock leads the sales, \n",
    "  potentially because of the earlier hire date\n",
    "  as compared to the other two employees.**"
   ]
  },
  {
   "cell_type": "markdown",
   "metadata": {},
   "source": [
    "\n",
    "- *Problem 3*: Understand the track/album purchases from different countries.\n"
   ]
  },
  {
   "cell_type": "code",
   "execution_count": 22,
   "metadata": {
    "collapsed": false,
    "jupyter": {
     "outputs_hidden": false
    }
   },
   "outputs": [
    {
     "name": "stdout",
     "output_type": "stream",
     "text": [
      " * sqlite:///Chinook_Sqlite.sqlite\n",
      "Done.\n"
     ]
    },
    {
     "data": {
      "text/html": [
       "<table>\n",
       "    <tr>\n",
       "        <th>new_country_column</th>\n",
       "        <th>num_of_customers</th>\n",
       "        <th>total_sales</th>\n",
       "        <th>average_sales_customer</th>\n",
       "        <th>average_order</th>\n",
       "    </tr>\n",
       "    <tr>\n",
       "        <td>USA</td>\n",
       "        <td>13</td>\n",
       "        <td>523.06</td>\n",
       "        <td>40.24</td>\n",
       "        <td>5.75</td>\n",
       "    </tr>\n",
       "    <tr>\n",
       "        <td>Canada</td>\n",
       "        <td>8</td>\n",
       "        <td>303.96</td>\n",
       "        <td>38.0</td>\n",
       "        <td>5.43</td>\n",
       "    </tr>\n",
       "    <tr>\n",
       "        <td>France</td>\n",
       "        <td>5</td>\n",
       "        <td>195.1</td>\n",
       "        <td>39.02</td>\n",
       "        <td>5.57</td>\n",
       "    </tr>\n",
       "    <tr>\n",
       "        <td>Brazil</td>\n",
       "        <td>5</td>\n",
       "        <td>190.1</td>\n",
       "        <td>38.02</td>\n",
       "        <td>5.43</td>\n",
       "    </tr>\n",
       "    <tr>\n",
       "        <td>Germany</td>\n",
       "        <td>4</td>\n",
       "        <td>156.48</td>\n",
       "        <td>39.12</td>\n",
       "        <td>5.59</td>\n",
       "    </tr>\n",
       "    <tr>\n",
       "        <td>United Kingdom</td>\n",
       "        <td>3</td>\n",
       "        <td>112.86</td>\n",
       "        <td>37.62</td>\n",
       "        <td>5.37</td>\n",
       "    </tr>\n",
       "    <tr>\n",
       "        <td>Czech Republic</td>\n",
       "        <td>2</td>\n",
       "        <td>90.24</td>\n",
       "        <td>45.12</td>\n",
       "        <td>6.45</td>\n",
       "    </tr>\n",
       "    <tr>\n",
       "        <td>Portugal</td>\n",
       "        <td>2</td>\n",
       "        <td>77.24</td>\n",
       "        <td>38.62</td>\n",
       "        <td>5.52</td>\n",
       "    </tr>\n",
       "    <tr>\n",
       "        <td>India</td>\n",
       "        <td>2</td>\n",
       "        <td>75.26</td>\n",
       "        <td>37.63</td>\n",
       "        <td>5.79</td>\n",
       "    </tr>\n",
       "    <tr>\n",
       "        <td>Other</td>\n",
       "        <td>15</td>\n",
       "        <td>604.3</td>\n",
       "        <td>40.29</td>\n",
       "        <td>5.76</td>\n",
       "    </tr>\n",
       "</table>"
      ],
      "text/plain": [
       "[('USA', 13, 523.06, 40.24, 5.75),\n",
       " ('Canada', 8, 303.96, 38.0, 5.43),\n",
       " ('France', 5, 195.1, 39.02, 5.57),\n",
       " ('Brazil', 5, 190.1, 38.02, 5.43),\n",
       " ('Germany', 4, 156.48, 39.12, 5.59),\n",
       " ('United Kingdom', 3, 112.86, 37.62, 5.37),\n",
       " ('Czech Republic', 2, 90.24, 45.12, 6.45),\n",
       " ('Portugal', 2, 77.24, 38.62, 5.52),\n",
       " ('India', 2, 75.26, 37.63, 5.79),\n",
       " ('Other', 15, 604.3, 40.29, 5.76)]"
      ]
     },
     "execution_count": 22,
     "metadata": {},
     "output_type": "execute_result"
    }
   ],
   "source": [
    "%%sql\n",
    "WITH cust_country AS (SELECT Invoice.*, \n",
    "                      InvoiceLine.*, \n",
    "                      Customer.*\n",
    "                      FROM InvoiceLine\n",
    "                      INNER JOIN Invoice\n",
    "                      ON InvoiceLine.InvoiceId = Invoice.InvoiceId\n",
    "                      INNER JOIN customer ON Invoice.CustomerId = Customer.CustomerId\n",
    "                      GROUP BY 1,2,3)\n",
    ",\n",
    "\n",
    "main_table AS\n",
    "(\n",
    "SELECT country, COUNT(DISTINCT(CustomerId)) AS number_of_customers, \n",
    "                SUM(total) AS total_value_sales,\n",
    "                SUM(total)/COUNT(DISTINCT(CustomerId)) As average_sales_customers,\n",
    "                AVG(total) AS average_order_value,\n",
    "                CASE WHEN COUNT(DISTINCT(CustomerId)) = 1\n",
    "                           THEN 0\n",
    "                           ELSE 1\n",
    "                      END AS sort_column\n",
    "FROM cust_country\n",
    "\n",
    "GROUP BY 1\n",
    "ORDER BY total_value_sales DESC\n",
    ")\n",
    "\n",
    "SELECT \n",
    "      CASE WHEN sort_column = 1\n",
    "           THEN Country\n",
    "           ELSE \"Other\"\n",
    "      END AS new_country_column,\n",
    "      SUM(number_of_customers) As num_of_customers,\n",
    "      ROUND(SUM(total_value_sales),2) AS total_sales,\n",
    "      ROUND(AVG(average_sales_customers),2) AS average_sales_customer,\n",
    "      ROUND(AVG(average_order_value),2) AS average_order\n",
    "FROM main_table\n",
    "GROUP BY new_country_column\n",
    "ORDER BY total_value_sales DESC"
   ]
  },
  {
   "cell_type": "markdown",
   "metadata": {
    "jupyter": {
     "outputs_hidden": true
    }
   },
   "source": [
    "\n",
    "\n",
    "Which artist is used in the most playlists?\n",
    "\n",
    "How many tracks have been purchased vs not purchased?\n",
    "\n",
    "Is the range of tracks in the store reflective of their sales popularity?\n",
    "\n",
    "Do protected vs non-protected media types have an effect on popularity?"
   ]
  }
 ],
 "metadata": {
  "kernelspec": {
   "display_name": "Python 3",
   "language": "python",
   "name": "python3"
  },
  "language_info": {
   "codemirror_mode": {
    "name": "ipython",
    "version": 3
   },
   "file_extension": ".py",
   "mimetype": "text/x-python",
   "name": "python",
   "nbconvert_exporter": "python",
   "pygments_lexer": "ipython3",
   "version": "3.8.5"
  }
 },
 "nbformat": 4,
 "nbformat_minor": 4
}
